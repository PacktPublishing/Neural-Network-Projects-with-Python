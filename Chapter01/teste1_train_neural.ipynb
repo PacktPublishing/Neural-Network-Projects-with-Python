{
 "cells": [
  {
   "cell_type": "code",
   "execution_count": 35,
   "metadata": {},
   "outputs": [],
   "source": [
    "import numpy as np"
   ]
  },
  {
   "cell_type": "code",
   "execution_count": 36,
   "metadata": {},
   "outputs": [],
   "source": [
    "def sigmoid(x):\n",
    "    return 1/(1 + np.exp(-x))\n",
    "\n",
    "def sigmoid_derivate(x):\n",
    "    return x * (1 - x) "
   ]
  },
  {
   "cell_type": "code",
   "execution_count": 37,
   "metadata": {},
   "outputs": [],
   "source": [
    "class NeuralNetwork:\n",
    "    def __init__(self, x, y):\n",
    "        self.input = x\n",
    "        # matriz numpy com vários valores aleatórios\n",
    "        self.weight1 = np.random.rand(self.input.shape[1], 4)\n",
    "        self.weight2 = np.random.rand(4, 1)\n",
    "        self.y = y\n",
    "        self.output = np.zeros(self.y.shape)\n",
    "    # definindo uma feedforward para calcualr a saída prevista\n",
    "    def feedforward(self):\n",
    "        self.layer1 = sigmoid(np.dot(self.input, self.weight1))\n",
    "        self.output = sigmoid(np.dot(self.layer1, self.weight2))\n",
    "\n",
    "    def backprop(self):\n",
    "        d_weight2 = np.dot(self.layer1.T, (2*(self.y - self.output) * sigmoid_derivate(self.output)))\n",
    "        d_weight1 = np.dot(self.input.T, (np.dot(2*(self.y - self.output) * sigmoid_derivate(self.output), self.weight2.T) * sigmoid_derivate(self.layer1)))\n",
    "\n",
    "        self.weight1 += d_weight1\n",
    "        self.weight2 += d_weight2\n",
    "        \n"
   ]
  },
  {
   "cell_type": "code",
   "execution_count": 38,
   "metadata": {},
   "outputs": [
    {
     "name": "stdout",
     "output_type": "stream",
     "text": [
      "[[0.00935196]\n",
      " [0.97232138]\n",
      " [0.97279786]\n",
      " [0.03390555]]\n"
     ]
    }
   ],
   "source": [
    "if __name__ == \"__main__\":\n",
    "    X = np.array([[0, 0, 1],\n",
    "                 [0, 1, 1],\n",
    "                 [1, 0, 1],\n",
    "                 [1, 1, 1]])\n",
    "    \n",
    "    y = np.array([[0], [1], [1], [0]])\n",
    "    nn = NeuralNetwork(X, y)\n",
    "\n",
    "    for i in range(1500):\n",
    "        nn.feedforward()\n",
    "        nn.backprop()\n",
    "    print(nn.output)\n"
   ]
  }
 ],
 "metadata": {
  "kernelspec": {
   "display_name": "neural-network-projects-python",
   "language": "python",
   "name": "python3"
  },
  "language_info": {
   "codemirror_mode": {
    "name": "ipython",
    "version": 3
   },
   "file_extension": ".py",
   "mimetype": "text/x-python",
   "name": "python",
   "nbconvert_exporter": "python",
   "pygments_lexer": "ipython3",
   "version": "3.6.8"
  },
  "orig_nbformat": 4
 },
 "nbformat": 4,
 "nbformat_minor": 2
}
